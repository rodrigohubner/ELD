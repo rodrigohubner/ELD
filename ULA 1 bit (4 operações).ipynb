{
 "cells": [
  {
   "cell_type": "markdown",
   "metadata": {},
   "source": [
    "## Exemplo da ULA de 1 bit em python para 4 operações\n",
    "\n",
    "Será mostrado o desenvolvimento de uma ULA de 1 bit para as operações de AND, OR, NOT e SOMA.\n",
    "\n",
    "A ULA será em Python e projeta em cima do exemplo a seguir:\n",
    "\n",
    "![](ula_1_bit_4_op.jpg)\n",
    "\n",
    "\n",
    "### Vamos iniciar primeiramente com a funções para todas as portas lógicas desta ULA:"
   ]
  },
  {
   "cell_type": "code",
   "execution_count": 8,
   "metadata": {},
   "outputs": [
    {
     "name": "stdout",
     "output_type": "stream",
     "text": [
      "1\n",
      "1\n",
      "0\n",
      "1\n"
     ]
    }
   ],
   "source": [
    "def p_not(a):\n",
    "    '''Porta NOT. Necessário retorno pela função int para converter tipo booleano'''\n",
    "    \n",
    "    return int(not a)\n",
    "\n",
    "\n",
    "def p2_and(a, b):\n",
    "    '''Porta AND com 2 entradas'''\n",
    "    \n",
    "    return a and b\n",
    "\n",
    "def p3_and(a, b, c):\n",
    "    '''Porta AND com 3 entradas'''\n",
    "    \n",
    "    return a and b and c\n",
    "\n",
    "\n",
    "def p2_or(a, b):\n",
    "    '''Porta OR com 2 entradas'''\n",
    "    \n",
    "    return a or b\n",
    "\n",
    "\n",
    "def p4_or(a, b, c, d):\n",
    "    '''Porta OR com 4 entradas'''\n",
    "    \n",
    "    return a or b or c or d\n",
    "\n",
    "\n",
    "def p_xor(a, b):\n",
    "    '''Porta XOR. Necessário retorno pela função int para converter tipo booleano'''\n",
    "    \n",
    "    return int(a != b)\n",
    "\n",
    "\n",
    "print(p_not(0))\n",
    "print(p_xor(0, 1))\n",
    "print(p_xor(1, 1))\n",
    "print(p4_or(0, 0, 0, 1))"
   ]
  },
  {
   "cell_type": "markdown",
   "metadata": {},
   "source": [
    "### Desenvolvimento do decodificador com 2 controles para comandar 4 saídas"
   ]
  },
  {
   "cell_type": "code",
   "execution_count": 10,
   "metadata": {},
   "outputs": [
    {
     "name": "stdout",
     "output_type": "stream",
     "text": [
      "(1, 0, 0, 0)\n",
      "(0, 0, 1, 0)\n"
     ]
    }
   ],
   "source": [
    "def decoder(f0, f1):\n",
    "    '''Recebe os controles F0 e F1 e retorna uma tupla com 4 saídas acionadas pela entrada,\n",
    "    sendo uma delas com valor 1 e o restante em 0'''\n",
    "    \n",
    "    return (p2_and(p_not(f0), p_not(f1)),\n",
    "            p2_and(p_not(f0), f1),\n",
    "            p2_and(f0, p_not(f1)),\n",
    "            p2_and(f0, f1))\n",
    "\n",
    "\n",
    "# escolhendo a 1ª saída\n",
    "print(decoder(0, 0))\n",
    "# escolhendo a 3ª saída\n",
    "print(decoder(1, 0))"
   ]
  },
  {
   "cell_type": "markdown",
   "metadata": {},
   "source": [
    "### Desenvolvimento da ULA completa"
   ]
  },
  {
   "cell_type": "code",
   "execution_count": 12,
   "metadata": {},
   "outputs": [
    {
     "name": "stdout",
     "output_type": "stream",
     "text": [
      "AND de 0 e 1: 0\n",
      "AND de 1 e 1: 1\n",
      "OR de 0 e 0: 0\n",
      "OR de 0 e 1: 1\n",
      "NOT de 0: 1\n",
      "NOT de 1: 0\n",
      "SOMA de 0 e 0: 0\n",
      "SOMA de 0 e 1: 1\n",
      "SOMA de 1 e 0: 1\n",
      "SOMA de 1 e 1: 0\n"
     ]
    }
   ],
   "source": [
    "def somador(a, b, cin, ctrl):\n",
    "    '''Circuito SOMADOR. Recebe as entradas A, B e Cin e retorna a SOMA e um CarryOut correspondente'''\n",
    "    \n",
    "    # cout será utilizado se aumentarmos a quantidade de bits do da ULA\n",
    "    cout = p2_or(p3_and(ctrl, a, b),\n",
    "                 p3_and(ctrl, p_xor(a, b), cin))\n",
    "    soma = p2_and(ctrl, p_xor(cin, p_xor(a, b)))\n",
    "    return soma\n",
    "\n",
    "\n",
    "def ULA_1_bit(a, b, f0, f1):\n",
    "    '''Função principal da ULA de 1 bit para as quatro operações'''\n",
    "    \n",
    "    dc = decoder(f0, f1)\n",
    "    res_and = p2_and(p2_and(a, b), dc[0])\n",
    "    res_or = p2_and(p2_or(a, b), dc[1])\n",
    "    res_not = p2_and(p_not(b), dc[2])\n",
    "    res_soma = somador(a, b, 0, dc[3])\n",
    "    return p4_or(res_and, res_or, res_not, res_soma)\n",
    "\n",
    "\n",
    "print('AND de 0 e 1:', ULA_1_bit(0, 1, 0, 0))\n",
    "print('AND de 1 e 1:', ULA_1_bit(1, 1, 0, 0))\n",
    "print('OR de 0 e 0:', ULA_1_bit(0, 0, 0, 1))\n",
    "print('OR de 0 e 1:', ULA_1_bit(0, 1, 0, 1))\n",
    "print('NOT de 0:', ULA_1_bit(0, 0, 1, 0))\n",
    "print('NOT de 1:', ULA_1_bit(0, 1, 1, 0))\n",
    "print('SOMA de 0 e 0:', ULA_1_bit(0, 0, 1, 1))\n",
    "print('SOMA de 0 e 1:', ULA_1_bit(0, 1, 1, 1))\n",
    "print('SOMA de 1 e 0:', ULA_1_bit(1, 0, 1, 1))\n",
    "print('SOMA de 1 e 1:', ULA_1_bit(1, 1, 1, 1))"
   ]
  },
  {
   "cell_type": "markdown",
   "metadata": {},
   "source": [
    "## Descrição do projeto da ULA de 8 bits:\n",
    "\n",
    "Projetar uma ULA de 8 bits utilizando a ferramenta **Logisim** e em **Python** (como foi realizado logo acima) ou outra linguagem de programação de sua preferência. A ULA deve conter as seguintes funções:\n",
    "1. AND\n",
    "2. OR\n",
    "3. NOT\n",
    "4. NAND\n",
    "5. NOR\n",
    "6. XOR\n",
    "7. XNOR\n",
    "8. SOMADOR\n",
    "\n",
    "O projeto deverá ser realizado **em duplas** e terá o valor de **1,0 ponto** na média.\n",
    "\n",
    "O projeto deverá ser entregue e apresentado ao professor no dia **12/06** na aula prática. A entrega deverá ser realizada no moodle contendo em um pacote compactado em ZIP os seguintes arquivos:\n",
    "- Arquivos fonte do Logisim;\n",
    "- Arquivos fonte da ULA de 8 bits em linguagem de programação;\n",
    "- Arquivo LEIAME.txt com a apresentação da dupla e possíveis questões de projeto (caso a linguagem de programação seja diferente de Python.\n",
    "\n",
    "### Bom trabalho!"
   ]
  },
  {
   "cell_type": "code",
   "execution_count": null,
   "metadata": {},
   "outputs": [],
   "source": []
  }
 ],
 "metadata": {
  "kernelspec": {
   "display_name": "Python 3",
   "language": "python",
   "name": "python3"
  },
  "language_info": {
   "codemirror_mode": {
    "name": "ipython",
    "version": 3
   },
   "file_extension": ".py",
   "mimetype": "text/x-python",
   "name": "python",
   "nbconvert_exporter": "python",
   "pygments_lexer": "ipython3",
   "version": "3.6.7"
  }
 },
 "nbformat": 4,
 "nbformat_minor": 2
}
