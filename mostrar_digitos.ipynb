{
 "cells": [
  {
   "cell_type": "markdown",
   "metadata": {},
   "source": [
    "## Apresentação de dígitos formato horários com \"7 segmentos\" no terminal."
   ]
  },
  {
   "cell_type": "code",
   "execution_count": 1,
   "metadata": {},
   "outputs": [],
   "source": [
    "def segmentos_7(v):\n",
    "    s = lambda desenho, existe: desenho if int(existe) else ' '\n",
    "    inter = ('', '.', '', '.', '', ' ', '', '')\n",
    "    l1, l2, l3 = '', '', ''\n",
    "    v = [nb[v[i:i+4]] for i in range(0, len(v), 4)]\n",
    "    for i, c in enumerate((0, 0, 1, 0, 1, 0, 1, 0)):\n",
    "        l1 += '{} {} '.format(' ' * c, s('_', v[i][0]))\n",
    "        l2 += '{}{}{}'.format(s('|', v[i][5]), s('_', v[i][6]), s('|', v[i][1]))\n",
    "        l2 += inter[i]\n",
    "        l3 += '{}{}{}'.format(s('|', v[i][4]), s('_', v[i][3]), s('|', v[i][2]))\n",
    "        l3 += inter[i]\n",
    "    return '{}\\n{}\\n{}'.format(l1, l2, l3)\n",
    "\n",
    "# dicionário com a entrada de 4 bits e o valor correspondente para acionar cada segmento\n",
    "nb = {\n",
    "    '0000': '1111110', # 0\n",
    "    '0001': '0110000', # 1\n",
    "    '0010': '1101101', # 2\n",
    "    '0011': '1111001', # 3\n",
    "    '0100': '0110011', # 4\n",
    "    '0101': '1011011', # 5\n",
    "    '0110': '0011111', # 6\n",
    "    '0111': '1110000', # 7\n",
    "    '1000': '1111111', # 8\n",
    "    '1001': '1110011', # 9\n",
    "    '1010': '1110111', # A\n",
    "    '1011': '1100111', # P\n",
    "    '1100': '1010101', # M\n",
    "    '1111': '0000000', # vazio (quando for 24h)\n",
    "}"
   ]
  },
  {
   "cell_type": "markdown",
   "metadata": {},
   "source": [
    "É possível utilizar o trecho acima gravado em um arquivo separado (`mostrar_hora.py` por exemplo) e no programa principal importar a função para chamar a função `segmentos_7`\n",
    "\n",
    "Para importar a função em outro arquivo (no mesmo diretório) utilize: `from mostrar_hora import segmentos_7`\n",
    "\n",
    "No programa principal poderá ser utilizado a função da seguinte forma:"
   ]
  },
  {
   "cell_type": "code",
   "execution_count": 2,
   "metadata": {},
   "outputs": [
    {
     "name": "stdout",
     "output_type": "stream",
     "text": [
      " _  _   _  _   _  _   _  _ \n",
      "| |  |. _|| |.|_ |_| |_| _ \n",
      "|_|  |. _||_|. _|  | |  | |\n"
     ]
    }
   ],
   "source": [
    "# para imprimir: 07:30:59 PM\n",
    "print(segmento_7('00000111001100000101100110111100'))"
   ]
  },
  {
   "cell_type": "code",
   "execution_count": 3,
   "metadata": {},
   "outputs": [
    {
     "name": "stdout",
     "output_type": "stream",
     "text": [
      "    _          _  _        \n",
      "  |  |.|_||_ . _|| |       \n",
      "  |  |.  ||_|.|_ |_|       \n"
     ]
    }
   ],
   "source": [
    "# para imprimir: 17:46:20\n",
    "print(segmento_7('00010111010001100010000011111111'))"
   ]
  },
  {
   "cell_type": "markdown",
   "metadata": {},
   "source": [
    "Ao chamar estas linhas várias vezes (atualizando o horário a cada segundo), **o horário irá aparecer um abaixo do outro**. Para que isto não aconteça, antes da chamada de `print(segmentos_7(...))` faça o seguinte:"
   ]
  },
  {
   "cell_type": "code",
   "execution_count": 4,
   "metadata": {},
   "outputs": [
    {
     "name": "stdout",
     "output_type": "stream",
     "text": [
      "\n",
      "\n",
      "\n",
      "\n",
      "\n",
      "\n",
      "\n",
      "\n",
      "\n",
      "\n",
      "\n",
      "\n",
      "\n",
      "\n",
      "\n",
      "\n",
      "\n",
      "\n",
      "\n",
      "\n",
      "\n",
      "\n",
      "\n",
      "\n",
      "\n",
      "\n",
      "\n",
      "\n",
      "\n",
      "\n",
      "\n",
      "\n",
      "\n",
      "\n",
      "\n",
      "\n",
      "\n",
      "\n",
      "\n",
      "\n",
      "\n",
      "\n",
      "\n",
      "\n",
      "\n",
      "\n",
      "\n",
      "\n",
      "\n",
      "\n",
      "\n",
      "\n",
      "\n",
      "\n",
      "\n",
      "\n",
      "\n",
      "\n",
      "\n",
      "\n",
      "\n",
      "\n",
      "\n",
      "\n",
      "\n",
      "\n",
      "\n",
      "\n",
      "\n",
      "\n",
      "\n",
      "\n",
      "\n",
      "\n",
      "\n",
      "\n",
      "\n",
      "\n",
      "\n",
      "\n",
      "\n",
      "\n",
      "\n",
      "\n",
      "\n",
      "\n",
      "\n",
      "\n",
      "\n",
      "\n",
      "\n",
      "\n",
      "\n",
      "\n",
      "\n",
      "\n",
      "\n",
      "\n",
      "\n",
      "\n",
      "\n",
      "    _          _  _   _  _ \n",
      "  |  |.|_||_ . _|| | |_| _ \n",
      "  |  |.  ||_|.|_ |_| | || |\n"
     ]
    }
   ],
   "source": [
    "print('\\n' * 100) # esta linha fará com que imrpima 100 espaços em branco no terminal (limpando a tela)\n",
    "print(segmento_7('00010111010001100010000010101100'))"
   ]
  },
  {
   "cell_type": "code",
   "execution_count": null,
   "metadata": {},
   "outputs": [],
   "source": []
  }
 ],
 "metadata": {
  "kernelspec": {
   "display_name": "Python 3",
   "language": "python",
   "name": "python3"
  },
  "language_info": {
   "codemirror_mode": {
    "name": "ipython",
    "version": 3
   },
   "file_extension": ".py",
   "mimetype": "text/x-python",
   "name": "python",
   "nbconvert_exporter": "python",
   "pygments_lexer": "ipython3",
   "version": "3.7.3"
  }
 },
 "nbformat": 4,
 "nbformat_minor": 2
}
